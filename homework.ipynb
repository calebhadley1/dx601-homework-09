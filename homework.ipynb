{
 "cells": [
  {
   "cell_type": "markdown",
   "source": [
    "# DX 601 Week 9 Homework"
   ],
   "metadata": {}
  },
  {
   "cell_type": "markdown",
   "source": [
    "## Introduction\n",
    "\n",
    "In this homework, you will practice basic operations with vectors and matrices."
   ],
   "metadata": {}
  },
  {
   "cell_type": "markdown",
   "source": [
    "## Example Code\n",
    "\n",
    "You may find it helpful to refer to this GitHub repository of Jupyter notebooks for example code.\n",
    "\n",
    "* https://github.com/bu-cds-omds/dx500-examples\n",
    "* https://github.com/bu-cds-omds/dx601-examples\n",
    "* https://github.com/bu-cds-omds/dx602-examples\n",
    "\n",
    "Any calculations demonstrated in code examples or videos may be found in these notebooks, and you are allowed to copy this example code in your homework answers."
   ],
   "metadata": {}
  },
  {
   "cell_type": "markdown",
   "source": [
    "## Shared Imports\n",
    "\n",
    "Do not install or use any additional modules.\n",
    "Installing additional modules may result in an autograder failure resulting in zero points for some or all problems."
   ],
   "metadata": {}
  },
  {
   "cell_type": "code",
   "execution_count": 116,
   "source": [
    "import math\n",
    "import sys"
   ],
   "outputs": [],
   "metadata": {}
  },
  {
   "cell_type": "code",
   "execution_count": 117,
   "source": [
    "import matplotlib.pyplot as plt\n",
    "import numpy as np\n",
    "import pandas as pd"
   ],
   "outputs": [],
   "metadata": {}
  },
  {
   "cell_type": "markdown",
   "source": [
    "## Problems"
   ],
   "metadata": {}
  },
  {
   "cell_type": "markdown",
   "source": [
    "### Problem 1\n",
    "\n",
    "Set `p1` to the vector from calculating $[0.0, 0.3, 0.65] + [2.2, 6.2, 0.35]$."
   ],
   "metadata": {}
  },
  {
   "cell_type": "code",
   "execution_count": 118,
   "source": [
    "# YOUR CHANGES HERE\n",
    "\n",
    "p1 = np.array([0.0, 0.3, 0.65]) + np.array([2.2, 6.2, 0.35])"
   ],
   "outputs": [],
   "metadata": {}
  },
  {
   "cell_type": "code",
   "execution_count": 119,
   "source": [
    "p1"
   ],
   "outputs": [
    {
     "output_type": "execute_result",
     "data": {
      "text/plain": [
       "array([2.2, 6.5, 1. ])"
      ]
     },
     "metadata": {},
     "execution_count": 119
    }
   ],
   "metadata": {}
  },
  {
   "cell_type": "markdown",
   "source": [
    "### Problem 2\n",
    "\n",
    "Set `p2` to the magnitude of the vector $[1, 3, 6]$?"
   ],
   "metadata": {}
  },
  {
   "cell_type": "code",
   "execution_count": 120,
   "source": [
    "# YOUR CHANGES HERE\n",
    "def magnitude(arr):\n",
    "    # sqrt of the sum of sqrs\n",
    "    squares = [i**2 for i in arr]\n",
    "    return math.sqrt(sum(squares))\n",
    "\n",
    "p2 = magnitude([1,3,6])"
   ],
   "outputs": [],
   "metadata": {}
  },
  {
   "cell_type": "code",
   "execution_count": 121,
   "source": [
    "p2"
   ],
   "outputs": [
    {
     "output_type": "execute_result",
     "data": {
      "text/plain": [
       "6.782329983125268"
      ]
     },
     "metadata": {},
     "execution_count": 121
    }
   ],
   "metadata": {}
  },
  {
   "cell_type": "markdown",
   "source": [
    "### Problem 3\n",
    "\n",
    "Set `p3` to the magnitude of the vector `q3`."
   ],
   "metadata": {}
  },
  {
   "cell_type": "code",
   "execution_count": 122,
   "source": [
    "# DO NOT CHANGE\n",
    "\n",
    "q3 = np.asarray([5.2, 5.9, 9.1, 4.3, 2.9])\n",
    "q3"
   ],
   "outputs": [
    {
     "output_type": "execute_result",
     "data": {
      "text/plain": [
       "array([5.2, 5.9, 9.1, 4.3, 2.9])"
      ]
     },
     "metadata": {},
     "execution_count": 122
    }
   ],
   "metadata": {}
  },
  {
   "cell_type": "code",
   "execution_count": 123,
   "source": [
    "# YOUR CHANGES HERE\n",
    "\n",
    "p3 = magnitude(q3)"
   ],
   "outputs": [],
   "metadata": {}
  },
  {
   "cell_type": "code",
   "execution_count": 124,
   "source": [
    "p3"
   ],
   "outputs": [
    {
     "output_type": "execute_result",
     "data": {
      "text/plain": [
       "13.098091464026353"
      ]
     },
     "metadata": {},
     "execution_count": 124
    }
   ],
   "metadata": {}
  },
  {
   "cell_type": "markdown",
   "source": [
    "### Problem 4\n",
    "\n",
    "Set `p4` to the dot product of $[2, 0, 3]$ and $[0, 4, 1]$."
   ],
   "metadata": {}
  },
  {
   "cell_type": "markdown",
   "source": [
    "Hint: this should feel like a really easy case to just do in your head."
   ],
   "metadata": {}
  },
  {
   "cell_type": "code",
   "execution_count": 125,
   "source": [
    "# YOUR CHANGES HERE\n",
    "\n",
    "p4 = np.dot(np.array([2,0,3]), np.array([0,4,1]))"
   ],
   "outputs": [],
   "metadata": {}
  },
  {
   "cell_type": "code",
   "execution_count": 126,
   "source": [
    "p4"
   ],
   "outputs": [
    {
     "output_type": "execute_result",
     "data": {
      "text/plain": [
       "np.int64(3)"
      ]
     },
     "metadata": {},
     "execution_count": 126
    }
   ],
   "metadata": {}
  },
  {
   "cell_type": "markdown",
   "source": [
    "### Problem 5\n",
    "\n",
    "Set `p5` to the element-wise product of `u5` and `v5`."
   ],
   "metadata": {}
  },
  {
   "cell_type": "markdown",
   "source": [
    "Hint: the default behavior of mathematical operations on NumPy arrays is to calculate on an element-wise basis."
   ],
   "metadata": {}
  },
  {
   "cell_type": "code",
   "execution_count": 127,
   "source": [
    "# DO NOT CHANGE\n",
    "\n",
    "u5 = np.asarray([5, 5, 5])\n",
    "u5"
   ],
   "outputs": [
    {
     "output_type": "execute_result",
     "data": {
      "text/plain": [
       "array([5, 5, 5])"
      ]
     },
     "metadata": {},
     "execution_count": 127
    }
   ],
   "metadata": {}
  },
  {
   "cell_type": "code",
   "execution_count": 128,
   "source": [
    "# DO NOT CHANGE\n",
    "\n",
    "v5 = np.asarray([1, 6, 2])\n",
    "v5"
   ],
   "outputs": [
    {
     "output_type": "execute_result",
     "data": {
      "text/plain": [
       "array([1, 6, 2])"
      ]
     },
     "metadata": {},
     "execution_count": 128
    }
   ],
   "metadata": {}
  },
  {
   "cell_type": "code",
   "execution_count": 129,
   "source": [
    "# YOUR CHANGES HERE\n",
    "\n",
    "p5 = u5 * v5"
   ],
   "outputs": [],
   "metadata": {}
  },
  {
   "cell_type": "code",
   "execution_count": 130,
   "source": [
    "p5"
   ],
   "outputs": [
    {
     "output_type": "execute_result",
     "data": {
      "text/plain": [
       "array([ 5, 30, 10])"
      ]
     },
     "metadata": {},
     "execution_count": 130
    }
   ],
   "metadata": {}
  },
  {
   "cell_type": "markdown",
   "source": [
    "### Problem 6\n",
    "\n",
    "Set `p6` to the dot product of `u6` and `v6`."
   ],
   "metadata": {}
  },
  {
   "cell_type": "code",
   "execution_count": 131,
   "source": [
    "# DO NOT CHANGE\n",
    "\n",
    "u6 = np.asarray([2.03, 0.40, 1.35, 9.26, 4.23])\n",
    "u6"
   ],
   "outputs": [
    {
     "output_type": "execute_result",
     "data": {
      "text/plain": [
       "array([2.03, 0.4 , 1.35, 9.26, 4.23])"
      ]
     },
     "metadata": {},
     "execution_count": 131
    }
   ],
   "metadata": {}
  },
  {
   "cell_type": "code",
   "execution_count": 132,
   "source": [
    "# DO NOT CHANGE\n",
    "\n",
    "v6 = np.asarray([1.32, 0.96, 2.35, 1.23, 0.25])\n",
    "v6"
   ],
   "outputs": [
    {
     "output_type": "execute_result",
     "data": {
      "text/plain": [
       "array([1.32, 0.96, 2.35, 1.23, 0.25])"
      ]
     },
     "metadata": {},
     "execution_count": 132
    }
   ],
   "metadata": {}
  },
  {
   "cell_type": "code",
   "execution_count": 133,
   "source": [
    "# YOUR CHANGES HERE\n",
    "\n",
    "p6 = np.dot(u6, v6)"
   ],
   "outputs": [],
   "metadata": {}
  },
  {
   "cell_type": "code",
   "execution_count": 134,
   "source": [
    "p6"
   ],
   "outputs": [
    {
     "output_type": "execute_result",
     "data": {
      "text/plain": [
       "np.float64(18.683400000000002)"
      ]
     },
     "metadata": {},
     "execution_count": 134
    }
   ],
   "metadata": {}
  },
  {
   "cell_type": "markdown",
   "source": [
    "### Problem 7\n",
    "\n",
    "Set `p7` to the cosine similarity of `u7` and `v7`."
   ],
   "metadata": {}
  },
  {
   "cell_type": "code",
   "execution_count": 135,
   "source": [
    "# DO NOT CHANGE\n",
    "\n",
    "u7 = np.asarray([1, 1, 1, 1])\n",
    "u7"
   ],
   "outputs": [
    {
     "output_type": "execute_result",
     "data": {
      "text/plain": [
       "array([1, 1, 1, 1])"
      ]
     },
     "metadata": {},
     "execution_count": 135
    }
   ],
   "metadata": {}
  },
  {
   "cell_type": "code",
   "execution_count": 136,
   "source": [
    "# DO NOT CHANGE\n",
    "\n",
    "v7 = np.asarray([0, 2, 0, 0])\n",
    "v7"
   ],
   "outputs": [
    {
     "output_type": "execute_result",
     "data": {
      "text/plain": [
       "array([0, 2, 0, 0])"
      ]
     },
     "metadata": {},
     "execution_count": 136
    }
   ],
   "metadata": {}
  },
  {
   "cell_type": "code",
   "execution_count": 137,
   "source": [
    "# YOUR CHANGES HERE\n",
    "def cos_sim(a, b):\n",
    "    return (np.dot(a,b)) / (magnitude(a) * magnitude(b))\n",
    "\n",
    "p7 = cos_sim(u7, v7)"
   ],
   "outputs": [],
   "metadata": {}
  },
  {
   "cell_type": "code",
   "execution_count": 138,
   "source": [
    "p7"
   ],
   "outputs": [
    {
     "output_type": "execute_result",
     "data": {
      "text/plain": [
       "np.float64(0.5)"
      ]
     },
     "metadata": {},
     "execution_count": 138
    }
   ],
   "metadata": {}
  },
  {
   "cell_type": "markdown",
   "source": [
    "### Problem 8\n",
    "\n",
    "Set `p8` to the vector $[x, y]$ corresponding to the polar coordinates $(r, \\theta) = (1, 1)$."
   ],
   "metadata": {}
  },
  {
   "cell_type": "code",
   "execution_count": 139,
   "source": [
    "# YOUR CHANGES HERE\n",
    "\"\"\"\n",
    "r = 1\n",
    "theta = 1\n",
    "\n",
    "rcos(theta), rsin(theta)\n",
    "\"\"\"\n",
    "p8 = np.array([math.cos(1), math.sin(1)])"
   ],
   "outputs": [],
   "metadata": {}
  },
  {
   "cell_type": "code",
   "execution_count": 140,
   "source": [
    "p8"
   ],
   "outputs": [
    {
     "output_type": "execute_result",
     "data": {
      "text/plain": [
       "array([0.54030231, 0.84147098])"
      ]
     },
     "metadata": {},
     "execution_count": 140
    }
   ],
   "metadata": {}
  },
  {
   "cell_type": "markdown",
   "source": [
    "### Problem 9\n",
    "\n",
    "Set `p9` to the scalar-vector product $3.1 \\cdot [1.31, 2.06, 9.56, 1.79]$."
   ],
   "metadata": {}
  },
  {
   "cell_type": "code",
   "execution_count": 141,
   "source": [
    "# YOUR CHANGES HERE\n",
    "\n",
    "p9 = np.dot(3.1, np.array([1.31, 2.06, 9.56, 1.79]))"
   ],
   "outputs": [],
   "metadata": {}
  },
  {
   "cell_type": "code",
   "execution_count": 142,
   "source": [
    "p9"
   ],
   "outputs": [
    {
     "output_type": "execute_result",
     "data": {
      "text/plain": [
       "array([ 4.061,  6.386, 29.636,  5.549])"
      ]
     },
     "metadata": {},
     "execution_count": 142
    }
   ],
   "metadata": {}
  },
  {
   "cell_type": "markdown",
   "source": [
    "### Problem 10\n",
    "\n",
    "Set `p10` to be a unit vector in the same direction as $[1.31, 2.13, -0.92]$.\n"
   ],
   "metadata": {}
  },
  {
   "cell_type": "code",
   "execution_count": 173,
   "source": [
    "# YOUR CHANGES HERE\n",
    "arr = [1.31, 2.13, -0.92]\n",
    "p10 = np.divide(arr, magnitude(arr))"
   ],
   "outputs": [],
   "metadata": {}
  },
  {
   "cell_type": "code",
   "execution_count": 174,
   "source": [
    "p10"
   ],
   "outputs": [
    {
     "output_type": "execute_result",
     "data": {
      "text/plain": [
       "array([ 0.49165501,  0.79940853, -0.34528444])"
      ]
     },
     "metadata": {},
     "execution_count": 174
    }
   ],
   "metadata": {}
  },
  {
   "cell_type": "markdown",
   "source": [
    "### Problem 11\n",
    "\n",
    "Set `p11` to be the first of the following vectors that is orthogonal to $[1, 0, 0]$.\n",
    "\n",
    "* $[1, 1, 1]$\n",
    "* $[0.5, 1, 1]$\n",
    "* $[0, 1, 1]$\n",
    "* $[1, 0, 1]$"
   ],
   "metadata": {}
  },
  {
   "cell_type": "code",
   "execution_count": 145,
   "source": [
    "p11 = np.array([0, 1, 1])"
   ],
   "outputs": [],
   "metadata": {}
  },
  {
   "cell_type": "code",
   "execution_count": 146,
   "source": [
    "p11"
   ],
   "outputs": [
    {
     "output_type": "execute_result",
     "data": {
      "text/plain": [
       "array([0, 1, 1])"
      ]
     },
     "metadata": {},
     "execution_count": 146
    }
   ],
   "metadata": {}
  },
  {
   "cell_type": "markdown",
   "source": [
    "### Problem 12\n",
    "\n",
    "Set `p12` to the first vector in the following list which is linearly dependent on the previous vectors.\n",
    "\n",
    "* $[0, 1, 1]$\n",
    "* $[0, 0, 1]$\n",
    "* $[1, 0, 1]$\n",
    "* $[1, 1, 1]$"
   ],
   "metadata": {}
  },
  {
   "cell_type": "code",
   "execution_count": 147,
   "source": [
    "# YOUR CHANGES HERE\n",
    "\n",
    "p12 = np.array([1, 0, 1])"
   ],
   "outputs": [],
   "metadata": {}
  },
  {
   "cell_type": "code",
   "execution_count": 148,
   "source": [
    "p12"
   ],
   "outputs": [
    {
     "output_type": "execute_result",
     "data": {
      "text/plain": [
       "array([0, 0, 1])"
      ]
     },
     "metadata": {},
     "execution_count": 148
    }
   ],
   "metadata": {}
  },
  {
   "cell_type": "markdown",
   "source": [
    "### Problem 13\n",
    "\n",
    "Set `p13` to the $3 \\times 3$ identity matrix."
   ],
   "metadata": {}
  },
  {
   "cell_type": "code",
   "execution_count": 149,
   "source": [
    "# YOUR CHANGES HERE\n",
    "\n",
    "p13 = np.array([[1,0,0], [0,1,0], [0,0,1]])"
   ],
   "outputs": [],
   "metadata": {}
  },
  {
   "cell_type": "code",
   "execution_count": 150,
   "source": [
    "p13"
   ],
   "outputs": [
    {
     "output_type": "execute_result",
     "data": {
      "text/plain": [
       "array([[1, 0, 0],\n",
       "       [0, 1, 0],\n",
       "       [0, 0, 1]])"
      ]
     },
     "metadata": {},
     "execution_count": 150
    }
   ],
   "metadata": {}
  },
  {
   "cell_type": "markdown",
   "source": [
    "### Problem 14\n",
    "\n",
    "Set `p14` to the x intercept of the equation $3y + 5x = 2$."
   ],
   "metadata": {}
  },
  {
   "cell_type": "code",
   "execution_count": 151,
   "source": [
    "# YOUR CHANGES HERE\n",
    "\n",
    "p14 = 2/5"
   ],
   "outputs": [],
   "metadata": {}
  },
  {
   "cell_type": "code",
   "execution_count": 152,
   "source": [
    "p14"
   ],
   "outputs": [
    {
     "output_type": "execute_result",
     "data": {
      "text/plain": [
       "0.4"
      ]
     },
     "metadata": {},
     "execution_count": 152
    }
   ],
   "metadata": {}
  },
  {
   "cell_type": "markdown",
   "source": [
    "### Problem 15\n",
    "\n",
    "Given the dictionary of phrases and vectors in `q15`, set `p15` to the phrase (key) whose vector has the highest cosine similarity with $[0.1, 0.5, 0.2]$."
   ],
   "metadata": {}
  },
  {
   "cell_type": "code",
   "execution_count": 153,
   "source": [
    "# DO NOT CHANGE\n",
    "\n",
    "q15 = {\n",
    "    \"cat\": [0.1, 0.6, 0.3],\n",
    "    \"dog\": [0.2, 0.5, 0.1],\n",
    "    \"elephant\": [-0.3, 0.2, 0.5],\n",
    "    \"giraffe\": [-0.4, 0.3, -0.1],\n",
    "    \"lion\": [0.1, 0.7, 0.2]\n",
    "}\n",
    "q15 = {k: np.asarray(v) for k, v in q15.items()}\n",
    "\n",
    "q15"
   ],
   "outputs": [
    {
     "output_type": "execute_result",
     "data": {
      "text/plain": [
       "{'cat': array([0.1, 0.6, 0.3]),\n",
       " 'dog': array([0.2, 0.5, 0.1]),\n",
       " 'elephant': array([-0.3,  0.2,  0.5]),\n",
       " 'giraffe': array([-0.4,  0.3, -0.1]),\n",
       " 'lion': array([0.1, 0.7, 0.2])}"
      ]
     },
     "metadata": {},
     "execution_count": 153
    }
   ],
   "metadata": {}
  },
  {
   "cell_type": "code",
   "execution_count": 175,
   "source": [
    "# YOUR CHANGES HERE\n",
    "print(cos_sim([0.1, 0.5, 0.2], q15[\"cat\"]))\n",
    "print(cos_sim([0.1, 0.5, 0.2], q15[\"dog\"]))\n",
    "print(cos_sim([0.1, 0.5, 0.2], q15[\"elephant\"]))\n",
    "print(cos_sim([0.1, 0.5, 0.2], q15[\"giraffe\"]))\n",
    "print(cos_sim([0.1, 0.5, 0.2], q15[\"lion\"]))\n",
    "p15 = \"cat\""
   ],
   "outputs": [
    {
     "output_type": "stream",
     "name": "stdout",
     "text": [
      "0.9960065188076063\n",
      "0.9666666666666667\n",
      "0.5034965460952285\n",
      "0.3222516933177447\n",
      "0.9938079899999067\n"
     ]
    }
   ],
   "metadata": {}
  },
  {
   "cell_type": "code",
   "execution_count": 155,
   "source": [
    "p15"
   ],
   "outputs": [
    {
     "output_type": "execute_result",
     "data": {
      "text/plain": [
       "'lion'"
      ]
     },
     "metadata": {},
     "execution_count": 155
    }
   ],
   "metadata": {}
  },
  {
   "cell_type": "markdown",
   "source": [
    "### Problem 16\n",
    "\n",
    "Rescale the vectors $[2, 0, 0, 0]$ and $[0, 1, 1, 1]$ so that they are orthonormal.\n",
    "\n",
    "Save the first rescaled vector in `p16a` and the second rescaled vector in `p16b`."
   ],
   "metadata": {}
  },
  {
   "cell_type": "code",
   "execution_count": 156,
   "source": [
    "# YOUR CHANGES HERE\n",
    "# orthonormal means they have magnitude 1\n",
    "# magnitude([2,0,0,0]) # magnitude 2\n",
    "p16a = np.divide([2,0,0,0], 2)"
   ],
   "outputs": [],
   "metadata": {}
  },
  {
   "cell_type": "code",
   "execution_count": 157,
   "source": [
    "p16a"
   ],
   "outputs": [
    {
     "output_type": "execute_result",
     "data": {
      "text/plain": [
       "array([1., 0., 0., 0.])"
      ]
     },
     "metadata": {},
     "execution_count": 157
    }
   ],
   "metadata": {}
  },
  {
   "cell_type": "code",
   "execution_count": 158,
   "source": [
    "# YOUR CHANGES HERE\n",
    "magnitude([0,1,1,1]) # magnitude 1.7320508075688772\n",
    "p16b = np.divide([0,1,1,1], 1.7320508075688772)"
   ],
   "outputs": [],
   "metadata": {}
  },
  {
   "cell_type": "code",
   "execution_count": 159,
   "source": [
    "p16b"
   ],
   "outputs": [
    {
     "output_type": "execute_result",
     "data": {
      "text/plain": [
       "array([0.        , 0.57735027, 0.57735027, 0.57735027])"
      ]
     },
     "metadata": {},
     "execution_count": 159
    }
   ],
   "metadata": {}
  },
  {
   "cell_type": "markdown",
   "source": [
    "### Problem 17\n",
    "\n",
    "Set `p17` to the result of the matrix multiplication of `x17` by `y17`."
   ],
   "metadata": {}
  },
  {
   "cell_type": "markdown",
   "source": [
    "Hint: NumPy has a function for matrix multiplication, and also overrides the Python @ operator."
   ],
   "metadata": {}
  },
  {
   "cell_type": "code",
   "execution_count": 160,
   "source": [
    "# DO NOT CHANGE\n",
    "\n",
    "x17 = np.array([[0.2, 3.1, 0.6], [-2.9, 2.3, 4.2], [3.0, 4.5, 1.7]])\n",
    "x17"
   ],
   "outputs": [
    {
     "output_type": "execute_result",
     "data": {
      "text/plain": [
       "array([[ 0.2,  3.1,  0.6],\n",
       "       [-2.9,  2.3,  4.2],\n",
       "       [ 3. ,  4.5,  1.7]])"
      ]
     },
     "metadata": {},
     "execution_count": 160
    }
   ],
   "metadata": {}
  },
  {
   "cell_type": "code",
   "execution_count": 161,
   "source": [
    "# DO NOT CHANGE\n",
    "\n",
    "y17 = np.array([[1, 2, 3], [6, 5, 4], [7, 8, 9]])\n",
    "y17"
   ],
   "outputs": [
    {
     "output_type": "execute_result",
     "data": {
      "text/plain": [
       "array([[1, 2, 3],\n",
       "       [6, 5, 4],\n",
       "       [7, 8, 9]])"
      ]
     },
     "metadata": {},
     "execution_count": 161
    }
   ],
   "metadata": {}
  },
  {
   "cell_type": "code",
   "execution_count": 162,
   "source": [
    "# YOUR CHANGES HERE\n",
    "\n",
    "p17 = x17 @ y17"
   ],
   "outputs": [],
   "metadata": {}
  },
  {
   "cell_type": "code",
   "execution_count": 163,
   "source": [
    "p17"
   ],
   "outputs": [
    {
     "output_type": "execute_result",
     "data": {
      "text/plain": [
       "array([[23. , 20.7, 18.4],\n",
       "       [40.3, 39.3, 38.3],\n",
       "       [41.9, 42.1, 42.3]])"
      ]
     },
     "metadata": {},
     "execution_count": 163
    }
   ],
   "metadata": {}
  },
  {
   "cell_type": "markdown",
   "source": [
    "### Problem 18\n",
    "\n",
    "Set `p18` to the angle $\\theta$ between the vectors in `u18` and `v18`.\n",
    "Use the measure of the angle in radians, not degrees."
   ],
   "metadata": {}
  },
  {
   "cell_type": "markdown",
   "source": [
    "Hint: you can use the cosine similarity to calculate $\\mathrm{cos}~\\theta$.\n",
    "The inverse cosine function to recover the measure of the angle is often called the arc cosine, and both the math and NumPy modules use this for their naming."
   ],
   "metadata": {}
  },
  {
   "cell_type": "code",
   "execution_count": 164,
   "source": [
    "# DO NOT CHANGE\n",
    "\n",
    "u18 = np.asarray([0.3, 0.2, 0.9, -0.4])\n",
    "u18"
   ],
   "outputs": [
    {
     "output_type": "execute_result",
     "data": {
      "text/plain": [
       "array([ 0.3,  0.2,  0.9, -0.4])"
      ]
     },
     "metadata": {},
     "execution_count": 164
    }
   ],
   "metadata": {}
  },
  {
   "cell_type": "code",
   "execution_count": 165,
   "source": [
    "# DO NOT CHANGE\n",
    "\n",
    "v18 = np.asarray([-0.1, 0.3, 0.6, -0.2])\n",
    "v18"
   ],
   "outputs": [
    {
     "output_type": "execute_result",
     "data": {
      "text/plain": [
       "array([-0.1,  0.3,  0.6, -0.2])"
      ]
     },
     "metadata": {},
     "execution_count": 165
    }
   ],
   "metadata": {}
  },
  {
   "cell_type": "code",
   "execution_count": 166,
   "source": [
    "# YOUR CHANGES HERE\n",
    "cs = cos_sim(u18, v18)\n",
    "p18 = math.acos(cs)"
   ],
   "outputs": [],
   "metadata": {}
  },
  {
   "cell_type": "code",
   "execution_count": 167,
   "source": [
    "p18"
   ],
   "outputs": [
    {
     "output_type": "execute_result",
     "data": {
      "text/plain": [
       "0.5023368499123664"
      ]
     },
     "metadata": {},
     "execution_count": 167
    }
   ],
   "metadata": {}
  },
  {
   "cell_type": "markdown",
   "source": [
    "### Problem 19\n",
    "\n",
    "Set `p19` to be the largest magnitude vector from the following list.\n",
    "\n",
    "* $[0.1, 0.3, 0.9, -0.8]$\n",
    "* $[0.2, 0.2, 0.7, 0.6]$\n",
    "* $[-0.2, 0.2, 0.7, -0.6]$\n",
    "* $[1.0, 1.0, 0.4, 0.5]$"
   ],
   "metadata": {}
  },
  {
   "cell_type": "code",
   "execution_count": 168,
   "source": [
    "# YOUR CHANGES HERE\n",
    "print(magnitude([0.1, 0.3, 0.9, -0.8]))\n",
    "print(magnitude([0.2, 0.2, 0.7, 0.6]))\n",
    "print(magnitude([-0.2, 0.2, 0.7, -0.6]))\n",
    "print(magnitude([1.0, 1.0, 0.4, 0.5]))\n",
    "p19 = [1.0, 1.0, 0.4, 0.5]"
   ],
   "outputs": [
    {
     "output_type": "stream",
     "name": "stdout",
     "text": [
      "1.2449899597988734\n",
      "0.9643650760992954\n",
      "0.9643650760992954\n",
      "1.5524174696260025\n"
     ]
    }
   ],
   "metadata": {}
  },
  {
   "cell_type": "code",
   "execution_count": 169,
   "source": [
    "p19"
   ],
   "outputs": [
    {
     "output_type": "execute_result",
     "data": {
      "text/plain": [
       "[1.0, 1.0, 0.4, 0.5]"
      ]
     },
     "metadata": {},
     "execution_count": 169
    }
   ],
   "metadata": {}
  },
  {
   "cell_type": "markdown",
   "source": [
    "### Problem 20\n",
    "\n",
    "Set `p20` to $3 \\mathbf{x} + 5$ where $x$ is stored in `x20`."
   ],
   "metadata": {}
  },
  {
   "cell_type": "code",
   "execution_count": 170,
   "source": [
    "# DO NOT CHANGE\n",
    "\n",
    "x20 = np.asarray([0.2, 0.5, -0.3, 0.8])"
   ],
   "outputs": [],
   "metadata": {}
  },
  {
   "cell_type": "code",
   "execution_count": 171,
   "source": [
    "# YOUR CHANGES HERE\n",
    "\n",
    "p20 = np.dot(x20, 3) + 5"
   ],
   "outputs": [],
   "metadata": {}
  },
  {
   "cell_type": "code",
   "execution_count": 172,
   "source": [
    "p20"
   ],
   "outputs": [
    {
     "output_type": "execute_result",
     "data": {
      "text/plain": [
       "array([5.6, 6.5, 4.1, 7.4])"
      ]
     },
     "metadata": {},
     "execution_count": 172
    }
   ],
   "metadata": {}
  },
  {
   "cell_type": "markdown",
   "source": [
    "### Generative AI Usage\n",
    "\n",
    "If you used any generative AI tools, please add links to your transcripts below, and any other information that you feel is necessary to comply with the [generative AI policy](https://www.bu.edu/cds-faculty/culture-community/gaia-policy/).\n",
    "If you did not use any generative AI tools, simply write NONE below."
   ],
   "metadata": {}
  },
  {
   "cell_type": "markdown",
   "source": [
    "None"
   ],
   "metadata": {}
  }
 ],
 "metadata": {
  "kernelspec": {
   "name": "python3",
   "display_name": "Python 3.13.5 64-bit ('test_env': conda)"
  },
  "language_info": {
   "codemirror_mode": {
    "name": "ipython",
    "version": 3
   },
   "file_extension": ".py",
   "mimetype": "text/x-python",
   "name": "python",
   "nbconvert_exporter": "python",
   "pygments_lexer": "ipython3",
   "version": "3.13.5"
  },
  "interpreter": {
   "hash": "cb23f857d3c7f0ee2d2845c75d7b24082b558c492a726c87849400f4f24ab23a"
  }
 },
 "nbformat": 4,
 "nbformat_minor": 2
}